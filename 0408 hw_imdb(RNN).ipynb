{
 "cells": [
  {
   "cell_type": "code",
   "execution_count": 1,
   "metadata": {},
   "outputs": [],
   "source": [
    "%matplotlib inline\n",
    "\n",
    "import numpy as np\n",
    "import matplotlib.pyplot as plt\n",
    "import pandas as pd"
   ]
  },
  {
   "cell_type": "code",
   "execution_count": 2,
   "metadata": {},
   "outputs": [],
   "source": [
    "from tensorflow.keras.preprocessing import sequence\n",
    "from tensorflow.keras.models import Sequential\n",
    "from tensorflow.keras.layers import Dense, Embedding\n",
    "from tensorflow.keras.layers import LSTM\n",
    "from tensorflow.keras.datasets import imdb"
   ]
  },
  {
   "cell_type": "code",
   "execution_count": 3,
   "metadata": {},
   "outputs": [],
   "source": [
    "(x_train, y_train), (x_test, y_test) = imdb.load_data(num_words=10000)"
   ]
  },
  {
   "cell_type": "code",
   "execution_count": 4,
   "metadata": {},
   "outputs": [],
   "source": [
    "x_train = sequence.pad_sequences(x_train, maxlen=100)\n",
    "x_test = sequence.pad_sequences(x_test, maxlen=100)"
   ]
  },
  {
   "cell_type": "code",
   "execution_count": 5,
   "metadata": {},
   "outputs": [],
   "source": [
    "model = Sequential()"
   ]
  },
  {
   "cell_type": "code",
   "execution_count": 6,
   "metadata": {},
   "outputs": [],
   "source": [
    "model.add(Embedding(10000, 128))"
   ]
  },
  {
   "cell_type": "code",
   "execution_count": 7,
   "metadata": {},
   "outputs": [],
   "source": [
    "model.add(LSTM(128, dropout=0.2, recurrent_dropout=0.2))"
   ]
  },
  {
   "cell_type": "code",
   "execution_count": 8,
   "metadata": {},
   "outputs": [],
   "source": [
    "model.add(Dense(1, activation='sigmoid'))"
   ]
  },
  {
   "cell_type": "code",
   "execution_count": 9,
   "metadata": {},
   "outputs": [],
   "source": [
    "model.compile(loss='binary_crossentropy',\n",
    "             optimizer='adam',\n",
    "             metrics=['accuracy'])"
   ]
  },
  {
   "cell_type": "code",
   "execution_count": 10,
   "metadata": {},
   "outputs": [
    {
     "name": "stdout",
     "output_type": "stream",
     "text": [
      "Model: \"sequential\"\n",
      "_________________________________________________________________\n",
      "Layer (type)                 Output Shape              Param #   \n",
      "=================================================================\n",
      "embedding (Embedding)        (None, None, 128)         1280000   \n",
      "_________________________________________________________________\n",
      "lstm (LSTM)                  (None, 128)               131584    \n",
      "_________________________________________________________________\n",
      "dense (Dense)                (None, 1)                 129       \n",
      "=================================================================\n",
      "Total params: 1,411,713\n",
      "Trainable params: 1,411,713\n",
      "Non-trainable params: 0\n",
      "_________________________________________________________________\n"
     ]
    }
   ],
   "source": [
    "model.summary()"
   ]
  },
  {
   "cell_type": "code",
   "execution_count": 11,
   "metadata": {},
   "outputs": [
    {
     "name": "stdout",
     "output_type": "stream",
     "text": [
      "Train on 25000 samples, validate on 25000 samples\n",
      "Epoch 1/10\n",
      "25000/25000 [==============================] - 188s 8ms/sample - loss: 0.4653 - accuracy: 0.7807 - val_loss: 0.3682 - val_accuracy: 0.8406\n",
      "Epoch 2/10\n",
      "25000/25000 [==============================] - 185s 7ms/sample - loss: 0.3147 - accuracy: 0.8724 - val_loss: 0.3779 - val_accuracy: 0.8334\n",
      "Epoch 3/10\n",
      "25000/25000 [==============================] - 186s 7ms/sample - loss: 0.2518 - accuracy: 0.9004 - val_loss: 0.3736 - val_accuracy: 0.8414\n",
      "Epoch 4/10\n",
      "25000/25000 [==============================] - 191s 8ms/sample - loss: 0.1963 - accuracy: 0.9222 - val_loss: 0.3924 - val_accuracy: 0.8412\n",
      "Epoch 5/10\n",
      "25000/25000 [==============================] - 190s 8ms/sample - loss: 0.1529 - accuracy: 0.9426 - val_loss: 0.4647 - val_accuracy: 0.8252\n",
      "Epoch 6/10\n",
      "25000/25000 [==============================] - 189s 8ms/sample - loss: 0.1206 - accuracy: 0.9578 - val_loss: 0.5152 - val_accuracy: 0.8344\n",
      "Epoch 7/10\n",
      "25000/25000 [==============================] - 191s 8ms/sample - loss: 0.0911 - accuracy: 0.9684 - val_loss: 0.5717 - val_accuracy: 0.8358\n",
      "Epoch 8/10\n",
      "25000/25000 [==============================] - 189s 8ms/sample - loss: 0.0809 - accuracy: 0.9726 - val_loss: 0.6127 - val_accuracy: 0.8296\n",
      "Epoch 9/10\n",
      "25000/25000 [==============================] - 191s 8ms/sample - loss: 0.0622 - accuracy: 0.9791 - val_loss: 0.6933 - val_accuracy: 0.8251\n",
      "Epoch 10/10\n",
      "25000/25000 [==============================] - 193s 8ms/sample - loss: 0.0481 - accuracy: 0.9840 - val_loss: 0.6886 - val_accuracy: 0.8254\n"
     ]
    },
    {
     "data": {
      "text/plain": [
       "<tensorflow.python.keras.callbacks.History at 0x1fba845c4c8>"
      ]
     },
     "execution_count": 11,
     "metadata": {},
     "output_type": "execute_result"
    }
   ],
   "source": [
    "model.fit(x_train, y_train, batch_size=32, epochs=10,\n",
    "         validation_data=(x_test, y_test))"
   ]
  },
  {
   "cell_type": "code",
   "execution_count": 12,
   "metadata": {},
   "outputs": [],
   "source": [
    "model_json = model.to_json()\n",
    "open('imdb_model_architecture.json', 'w').write(model_json)\n",
    "model.save_weights('imdb_model_weights.h5')"
   ]
  },
  {
   "cell_type": "code",
   "execution_count": null,
   "metadata": {},
   "outputs": [],
   "source": []
  }
 ],
 "metadata": {
  "kernelspec": {
   "display_name": "Python 3",
   "language": "python",
   "name": "python3"
  },
  "language_info": {
   "codemirror_mode": {
    "name": "ipython",
    "version": 3
   },
   "file_extension": ".py",
   "mimetype": "text/x-python",
   "name": "python",
   "nbconvert_exporter": "python",
   "pygments_lexer": "ipython3",
   "version": "3.7.6"
  }
 },
 "nbformat": 4,
 "nbformat_minor": 4
}

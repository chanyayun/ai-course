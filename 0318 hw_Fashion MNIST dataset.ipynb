{
 "cells": [
  {
   "cell_type": "code",
   "execution_count": 1,
   "metadata": {},
   "outputs": [],
   "source": [
    "%matplotlib inline\n",
    "\n",
    "import numpy as np\n",
    "import matplotlib.pyplot as plt"
   ]
  },
  {
   "cell_type": "code",
   "execution_count": 2,
   "metadata": {},
   "outputs": [],
   "source": [
    "# # TensorFlow and tf.keras\n",
    "# import tensorflow as tf\n",
    "# from tensorflow import keras\n",
    "\n",
    "# print(tf.__version__)"
   ]
  },
  {
   "cell_type": "markdown",
   "metadata": {},
   "source": [
    "## 1. 讀入 Fashion MNIST 數據集"
   ]
  },
  {
   "cell_type": "code",
   "execution_count": 3,
   "metadata": {},
   "outputs": [],
   "source": [
    "from tensorflow.keras.datasets import fashion_mnist"
   ]
  },
  {
   "cell_type": "code",
   "execution_count": 4,
   "metadata": {},
   "outputs": [],
   "source": [
    "(x_train, y_train), (x_test, y_test) = fashion_mnist.load_data()"
   ]
  },
  {
   "cell_type": "markdown",
   "metadata": {},
   "source": [
    "The labels are an array of integers, ranging from 0 to 9. <br>\n",
    "Each image is mapped to a single label."
   ]
  },
  {
   "cell_type": "code",
   "execution_count": 5,
   "metadata": {},
   "outputs": [],
   "source": [
    "# 資料集沒有包含 class names要自己新增\n",
    "\n",
    "class_names = ['T-shirt/top', 'Trouser', 'Pullover', 'Dress', 'Coat',\n",
    "               'Sandal', 'Shirt', 'Sneaker', 'Bag', 'Ankle boot']"
   ]
  },
  {
   "cell_type": "markdown",
   "metadata": {},
   "source": [
    "## 2. 檢視資料"
   ]
  },
  {
   "cell_type": "code",
   "execution_count": 6,
   "metadata": {},
   "outputs": [
    {
     "data": {
      "text/plain": [
       "(60000, 28, 28)"
      ]
     },
     "execution_count": 6,
     "metadata": {},
     "output_type": "execute_result"
    }
   ],
   "source": [
    "x_train.shape"
   ]
  },
  {
   "cell_type": "code",
   "execution_count": 7,
   "metadata": {},
   "outputs": [
    {
     "data": {
      "text/plain": [
       "array([[  0,   0,   0,   0,   0,   1,   0,   0,   0,   0,  41, 188, 103,\n",
       "         54,  48,  43,  87, 168, 133,  16,   0,   0,   0,   0,   0,   0,\n",
       "          0,   0],\n",
       "       [  0,   0,   0,   1,   0,   0,   0,  49, 136, 219, 216, 228, 236,\n",
       "        255, 255, 255, 255, 217, 215, 254, 231, 160,  45,   0,   0,   0,\n",
       "          0,   0],\n",
       "       [  0,   0,   0,   0,   0,  14, 176, 222, 224, 212, 203, 198, 196,\n",
       "        200, 215, 204, 202, 201, 201, 201, 209, 218, 224, 164,   0,   0,\n",
       "          0,   0],\n",
       "       [  0,   0,   0,   0,   0, 188, 219, 200, 198, 202, 198, 199, 199,\n",
       "        201, 196, 198, 198, 200, 200, 200, 200, 201, 200, 225,  41,   0,\n",
       "          0,   0],\n",
       "       [  0,   0,   0,   0,  51, 219, 199, 203, 203, 212, 238, 248, 250,\n",
       "        245, 249, 246, 247, 252, 248, 235, 207, 203, 203, 222, 140,   0,\n",
       "          0,   0],\n",
       "       [  0,   0,   0,   0, 116, 226, 206, 204, 207, 204, 101,  75,  47,\n",
       "         73,  48,  50,  45,  51,  63, 113, 222, 202, 206, 220, 224,   0,\n",
       "          0,   0],\n",
       "       [  0,   0,   0,   0, 200, 222, 209, 203, 215, 200,   0,  70,  98,\n",
       "          0, 103,  59,  68,  71,  49,   0, 219, 206, 214, 210, 250,  38,\n",
       "          0,   0],\n",
       "       [  0,   0,   0,   0, 247, 218, 212, 210, 215, 214,   0, 254, 243,\n",
       "        139, 255, 174, 251, 255, 205,   0, 215, 217, 214, 208, 220,  95,\n",
       "          0,   0],\n",
       "       [  0,   0,   0,  45, 226, 214, 214, 215, 224, 205,   0,  42,  35,\n",
       "         60,  16,  17,  12,  13,  70,   0, 189, 216, 212, 206, 212, 156,\n",
       "          0,   0],\n",
       "       [  0,   0,   0, 164, 235, 214, 211, 220, 216, 201,  52,  71,  89,\n",
       "         94,  83,  78,  70,  76,  92,  87, 206, 207, 222, 213, 219, 208,\n",
       "          0,   0],\n",
       "       [  0,   0,   0, 106, 187, 223, 237, 248, 211, 198, 252, 250, 248,\n",
       "        245, 248, 252, 253, 250, 252, 239, 201, 212, 225, 215, 193, 113,\n",
       "          0,   0],\n",
       "       [  0,   0,   0,   0,   0,  17,  54, 159, 222, 193, 208, 192, 197,\n",
       "        200, 200, 200, 200, 201, 203, 195, 210, 165,   0,   0,   0,   0,\n",
       "          0,   0],\n",
       "       [  0,   0,   0,   0,   0,   0,   0,  47, 225, 192, 214, 203, 206,\n",
       "        204, 204, 205, 206, 204, 212, 197, 218, 107,   0,   0,   0,   0,\n",
       "          0,   0],\n",
       "       [  0,   0,   0,   0,   1,   6,   0,  46, 212, 195, 212, 202, 206,\n",
       "        205, 204, 205, 206, 204, 212, 200, 218,  91,   0,   3,   1,   0,\n",
       "          0,   0],\n",
       "       [  0,   0,   0,   0,   0,   1,   0,  11, 197, 199, 205, 202, 205,\n",
       "        206, 204, 205, 207, 204, 205, 205, 218,  77,   0,   5,   0,   0,\n",
       "          0,   0],\n",
       "       [  0,   0,   0,   0,   0,   3,   0,   2, 191, 198, 201, 205, 206,\n",
       "        205, 205, 206, 209, 206, 199, 209, 219,  74,   0,   5,   0,   0,\n",
       "          0,   0],\n",
       "       [  0,   0,   0,   0,   0,   2,   0,   0, 188, 197, 200, 207, 207,\n",
       "        204, 207, 207, 210, 208, 198, 207, 221,  72,   0,   4,   0,   0,\n",
       "          0,   0],\n",
       "       [  0,   0,   0,   0,   0,   2,   0,   0, 215, 198, 203, 206, 208,\n",
       "        205, 207, 207, 210, 208, 200, 202, 222,  75,   0,   4,   0,   0,\n",
       "          0,   0],\n",
       "       [  0,   0,   0,   0,   0,   1,   0,   0, 212, 198, 209, 206, 209,\n",
       "        206, 208, 207, 211, 206, 205, 198, 221,  80,   0,   3,   0,   0,\n",
       "          0,   0],\n",
       "       [  0,   0,   0,   0,   0,   1,   0,   0, 204, 201, 205, 208, 207,\n",
       "        205, 211, 205, 210, 210, 209, 195, 221,  96,   0,   3,   0,   0,\n",
       "          0,   0],\n",
       "       [  0,   0,   0,   0,   0,   1,   0,   0, 202, 201, 205, 209, 207,\n",
       "        205, 213, 206, 210, 209, 210, 194, 217, 105,   0,   2,   0,   0,\n",
       "          0,   0],\n",
       "       [  0,   0,   0,   0,   0,   1,   0,   0, 204, 204, 205, 208, 207,\n",
       "        205, 215, 207, 210, 208, 211, 193, 213, 115,   0,   2,   0,   0,\n",
       "          0,   0],\n",
       "       [  0,   0,   0,   0,   0,   0,   0,   0, 204, 207, 207, 208, 206,\n",
       "        206, 215, 210, 210, 207, 212, 195, 210, 118,   0,   2,   0,   0,\n",
       "          0,   0],\n",
       "       [  0,   0,   0,   0,   0,   1,   0,   0, 198, 208, 208, 208, 204,\n",
       "        207, 212, 212, 210, 207, 211, 196, 207, 121,   0,   1,   0,   0,\n",
       "          0,   0],\n",
       "       [  0,   0,   0,   0,   0,   1,   0,   0, 198, 210, 207, 208, 206,\n",
       "        209, 213, 212, 211, 207, 210, 197, 207, 124,   0,   1,   0,   0,\n",
       "          0,   0],\n",
       "       [  0,   0,   0,   0,   0,   0,   0,   0, 172, 210, 203, 201, 199,\n",
       "        204, 207, 205, 204, 201, 205, 197, 206, 127,   0,   0,   0,   0,\n",
       "          0,   0],\n",
       "       [  0,   0,   0,   0,   0,   0,   0,   0, 188, 221, 214, 234, 236,\n",
       "        238, 244, 244, 244, 240, 243, 214, 224, 162,   0,   2,   0,   0,\n",
       "          0,   0],\n",
       "       [  0,   0,   0,   0,   0,   1,   0,   0, 139, 146, 130, 135, 135,\n",
       "        137, 125, 124, 125, 121, 119, 114, 130,  76,   0,   0,   0,   0,\n",
       "          0,   0]], dtype=uint8)"
      ]
     },
     "execution_count": 7,
     "metadata": {},
     "output_type": "execute_result"
    }
   ],
   "source": [
    "# 28x28 pixel values\n",
    "x_train[1]"
   ]
  },
  {
   "cell_type": "code",
   "execution_count": 8,
   "metadata": {},
   "outputs": [
    {
     "name": "stdout",
     "output_type": "stream",
     "text": [
      "這是 Dress\n"
     ]
    },
    {
     "data": {
      "text/plain": [
       "<matplotlib.image.AxesImage at 0x2334c163e88>"
      ]
     },
     "execution_count": 8,
     "metadata": {},
     "output_type": "execute_result"
    },
    {
     "data": {
      "image/png": "[encoded data removed]",
      "text/plain": [
       "<Figure size 432x288 with 1 Axes>"
      ]
     },
     "metadata": {
      "needs_background": "light"
     },
     "output_type": "display_data"
    }
   ],
   "source": [
    "n = 3\n",
    "print(\"這是\", class_names[y_train[n]])\n",
    "plt.imshow(x_train[n], cmap='Greys')"
   ]
  },
  {
   "cell_type": "code",
   "execution_count": 9,
   "metadata": {},
   "outputs": [
    {
     "data": {
      "image/png": "[encoded data removed]",
      "text/plain": [
       "<Figure size 432x288 with 5 Axes>"
      ]
     },
     "metadata": {},
     "output_type": "display_data"
    }
   ],
   "source": [
    "pick = np.random.choice(60000, 5, replace=False)\n",
    "\n",
    "for i in range(5):\n",
    "    n = pick[i]\n",
    "    ax = plt.subplot(151+i)\n",
    "    ax.set_xticks([])\n",
    "    ax.set_yticks([])\n",
    "    ax.set_title(class_names[y_train[n]], fontsize=10)\n",
    "    plt.imshow(x_train[n], cmap='Greys')  "
   ]
  },
  {
   "cell_type": "markdown",
   "metadata": {},
   "source": [
    "## 3. 資料整理\n",
    "The images are 28x28 NumPy arrays, with pixel values ranging from 0 to 255."
   ]
  },
  {
   "cell_type": "code",
   "execution_count": 10,
   "metadata": {},
   "outputs": [],
   "source": [
    "# scale the pixel values to a range of 0 to 1\n",
    "\n",
    "x_train = x_train / 255\n",
    "x_test = x_test / 255"
   ]
  },
  {
   "cell_type": "code",
   "execution_count": 11,
   "metadata": {},
   "outputs": [],
   "source": [
    "# 28*28=784\n",
    "\n",
    "x_train = x_train.reshape(60000, 784)\n",
    "x_test = x_test.reshape(10000, 784)"
   ]
  },
  {
   "cell_type": "code",
   "execution_count": 12,
   "metadata": {},
   "outputs": [],
   "source": [
    "from tensorflow.keras.utils import to_categorical"
   ]
  },
  {
   "cell_type": "code",
   "execution_count": 13,
   "metadata": {},
   "outputs": [],
   "source": [
    "# Converts a class vector (integers) to binary class matrix.\n",
    "# `to_categorical` converts this into a matrix with as many\n",
    "# columns as there are classes. The number of rows\n",
    "# stays the same.\n",
    "# 有10個class所以一個row會包含10個元素(10列)\n",
    "\n",
    "y_train = to_categorical(y_train, 10)\n",
    "y_test = to_categorical(y_test, 10)"
   ]
  },
  {
   "cell_type": "markdown",
   "metadata": {},
   "source": [
    "## 4. 打造神經網路"
   ]
  },
  {
   "cell_type": "code",
   "execution_count": 14,
   "metadata": {},
   "outputs": [],
   "source": [
    "from tensorflow.keras.models import Sequential\n",
    "from tensorflow.keras.layers import Dense\n",
    "from tensorflow.keras.optimizers import SGD"
   ]
  },
  {
   "cell_type": "code",
   "execution_count": 15,
   "metadata": {},
   "outputs": [],
   "source": [
    "model = Sequential()"
   ]
  },
  {
   "cell_type": "code",
   "execution_count": 16,
   "metadata": {},
   "outputs": [],
   "source": [
    "model.add(Dense(64, input_dim=784, activation='relu'))"
   ]
  },
  {
   "cell_type": "code",
   "execution_count": 17,
   "metadata": {},
   "outputs": [],
   "source": [
    "model.add(Dense(64, activation='relu'))"
   ]
  },
  {
   "cell_type": "code",
   "execution_count": 18,
   "metadata": {},
   "outputs": [],
   "source": [
    "# softmax把值轉為0到1之間的機率\n",
    "\n",
    "model.add(Dense(10, activation='softmax'))"
   ]
  },
  {
   "cell_type": "code",
   "execution_count": 19,
   "metadata": {},
   "outputs": [],
   "source": [
    "model.compile(loss='mse', optimizer=SGD(lr=0.05), metrics=['accuracy'])"
   ]
  },
  {
   "cell_type": "code",
   "execution_count": 20,
   "metadata": {},
   "outputs": [
    {
     "name": "stdout",
     "output_type": "stream",
     "text": [
      "Model: \"sequential\"\n",
      "_________________________________________________________________\n",
      "Layer (type)                 Output Shape              Param #   \n",
      "=================================================================\n",
      "dense (Dense)                (None, 64)                50240     \n",
      "_________________________________________________________________\n",
      "dense_1 (Dense)              (None, 64)                4160      \n",
      "_________________________________________________________________\n",
      "dense_2 (Dense)              (None, 10)                650       \n",
      "=================================================================\n",
      "Total params: 55,050\n",
      "Trainable params: 55,050\n",
      "Non-trainable params: 0\n",
      "_________________________________________________________________\n"
     ]
    }
   ],
   "source": [
    "model.summary()\n",
    "\n",
    "# 784*64+64=100480"
   ]
  },
  {
   "cell_type": "markdown",
   "metadata": {},
   "source": [
    "## 4. 訓練"
   ]
  },
  {
   "cell_type": "code",
   "execution_count": 21,
   "metadata": {},
   "outputs": [
    {
     "name": "stdout",
     "output_type": "stream",
     "text": [
      "Train on 60000 samples\n",
      "Epoch 1/20\n",
      "60000/60000 [==============================] - 2s 37us/sample - loss: 0.0722 - accuracy: 0.4545\n",
      "Epoch 2/20\n",
      "60000/60000 [==============================] - 2s 32us/sample - loss: 0.0456 - accuracy: 0.6919\n",
      "Epoch 3/20\n",
      "60000/60000 [==============================] - 2s 36us/sample - loss: 0.0368 - accuracy: 0.7564\n",
      "Epoch 4/20\n",
      "60000/60000 [==============================] - 2s 32us/sample - loss: 0.0324 - accuracy: 0.7879\n",
      "Epoch 5/20\n",
      "60000/60000 [==============================] - 2s 36us/sample - loss: 0.0297 - accuracy: 0.8038\n",
      "Epoch 6/20\n",
      "60000/60000 [==============================] - 2s 34us/sample - loss: 0.0280 - accuracy: 0.8149\n",
      "Epoch 7/20\n",
      "60000/60000 [==============================] - 2s 35us/sample - loss: 0.0268 - accuracy: 0.8221\n",
      "Epoch 8/20\n",
      "60000/60000 [==============================] - 2s 37us/sample - loss: 0.0258 - accuracy: 0.8270\n",
      "Epoch 9/20\n",
      "60000/60000 [==============================] - 2s 32us/sample - loss: 0.0250 - accuracy: 0.8310\n",
      "Epoch 10/20\n",
      "60000/60000 [==============================] - 2s 33us/sample - loss: 0.0244 - accuracy: 0.8356\n",
      "Epoch 11/20\n",
      "60000/60000 [==============================] - 2s 37us/sample - loss: 0.0238 - accuracy: 0.8389\n",
      "Epoch 12/20\n",
      "60000/60000 [==============================] - 2s 33us/sample - loss: 0.0234 - accuracy: 0.8410\n",
      "Epoch 13/20\n",
      "60000/60000 [==============================] - 2s 35us/sample - loss: 0.0230 - accuracy: 0.8449\n",
      "Epoch 14/20\n",
      "60000/60000 [==============================] - 2s 37us/sample - loss: 0.0227 - accuracy: 0.8465\n",
      "Epoch 15/20\n",
      "60000/60000 [==============================] - 2s 33us/sample - loss: 0.0224 - accuracy: 0.8485\n",
      "Epoch 16/20\n",
      "60000/60000 [==============================] - 2s 40us/sample - loss: 0.0221 - accuracy: 0.8500\n",
      "Epoch 17/20\n",
      "60000/60000 [==============================] - 2s 34us/sample - loss: 0.0219 - accuracy: 0.8518\n",
      "Epoch 18/20\n",
      "60000/60000 [==============================] - 2s 32us/sample - loss: 0.0217 - accuracy: 0.8532\n",
      "Epoch 19/20\n",
      "60000/60000 [==============================] - 2s 37us/sample - loss: 0.0215 - accuracy: 0.8550\n",
      "Epoch 20/20\n",
      "60000/60000 [==============================] - 2s 33us/sample - loss: 0.0212 - accuracy: 0.8568\n"
     ]
    },
    {
     "data": {
      "text/plain": [
       "<tensorflow.python.keras.callbacks.History at 0x2334bb28888>"
      ]
     },
     "execution_count": 21,
     "metadata": {},
     "output_type": "execute_result"
    }
   ],
   "source": [
    "# batch_size: 一次拿多少資料訓練\n",
    "# epochs: iterations on a dataset \n",
    "\n",
    "model.fit(x_train, y_train, batch_size=50, epochs=20)"
   ]
  },
  {
   "cell_type": "markdown",
   "metadata": {},
   "source": [
    "## 5. 結果"
   ]
  },
  {
   "cell_type": "code",
   "execution_count": 22,
   "metadata": {},
   "outputs": [],
   "source": [
    "result = model.predict_classes(x_test)"
   ]
  },
  {
   "cell_type": "code",
   "execution_count": 23,
   "metadata": {},
   "outputs": [
    {
     "name": "stdout",
     "output_type": "stream",
     "text": [
      "神經網路預測是: Sandal\n"
     ]
    },
    {
     "data": {
      "text/plain": [
       "<matplotlib.image.AxesImage at 0x2334baf4c48>"
      ]
     },
     "execution_count": 23,
     "metadata": {},
     "output_type": "execute_result"
    },
    {
     "data": {
      "image/png": "[encoded data removed]",
      "text/plain": [
       "<Figure size 432x288 with 1 Axes>"
      ]
     },
     "metadata": {
      "needs_background": "light"
     },
     "output_type": "display_data"
    }
   ],
   "source": [
    "n = 9999\n",
    "\n",
    "print('神經網路預測是:', class_names[result[n]])\n",
    "plt.imshow(x_test[n].reshape(28,28), cmap='Greys')"
   ]
  },
  {
   "cell_type": "code",
   "execution_count": 24,
   "metadata": {},
   "outputs": [
    {
     "name": "stdout",
     "output_type": "stream",
     "text": [
      "10000/10000 - 1s - loss: 0.0232 - accuracy: 0.8424\n",
      "\n",
      "Test accuracy: 0.8424\n"
     ]
    }
   ],
   "source": [
    "test_loss, test_acc = model.evaluate(x_test, y_test, verbose=2)\n",
    "\n",
    "print('\\nTest accuracy:', test_acc)"
   ]
  },
  {
   "cell_type": "code",
   "execution_count": null,
   "metadata": {},
   "outputs": [],
   "source": []
  }
 ],
 "metadata": {
  "kernelspec": {
   "display_name": "Python 3",
   "language": "python",
   "name": "python3"
  },
  "language_info": {
   "codemirror_mode": {
    "name": "ipython",
    "version": 3
   },
   "file_extension": ".py",
   "mimetype": "text/x-python",
   "name": "python",
   "nbconvert_exporter": "python",
   "pygments_lexer": "ipython3",
   "version": "3.7.6"
  }
 },
 "nbformat": 4,
 "nbformat_minor": 4
}

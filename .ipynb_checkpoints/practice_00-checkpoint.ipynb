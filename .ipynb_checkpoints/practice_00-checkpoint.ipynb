{
 "cells": [
  {
   "cell_type": "markdown",
   "metadata": {},
   "source": [
    "### Guess the Number"
   ]
  },
  {
   "cell_type": "code",
   "execution_count": 1,
   "metadata": {},
   "outputs": [],
   "source": [
    "from random import sample"
   ]
  },
  {
   "cell_type": "code",
   "execution_count": 2,
   "metadata": {},
   "outputs": [
    {
     "name": "stdout",
     "output_type": "stream",
     "text": [
      "1957\n"
     ]
    }
   ],
   "source": [
    "given = map(str, sample(range(10), 4))\n",
    "given = \"\".join(given)\n",
    "\n",
    "print(given)"
   ]
  },
  {
   "cell_type": "code",
   "execution_count": null,
   "metadata": {},
   "outputs": [],
   "source": []
  },
  {
   "cell_type": "code",
   "execution_count": 5,
   "metadata": {},
   "outputs": [],
   "source": [
    "def guess():\n",
    "    a_count, b_count = 0, 0\n",
    "    \n",
    "    try:\n",
    "        ans = int(input(\"take a guess: \"))\n",
    "        if len(str(ans)) != 4:\n",
    "            raise ValueError\n",
    "    except ValueError:\n",
    "        print(\"input should be 4 digit integers\\n\")\n",
    "        guess()\n",
    "    finally:\n",
    "        ans = str(ans)\n",
    "\n",
    "        for i in range(len(given)):\n",
    "            if ans[i] == given[i]:\n",
    "                a_count += 1\n",
    "            elif ans[i] in given:\n",
    "                b_count += 1\n",
    "                \n",
    "        output = f'{a_count}A{b_count}B'\n",
    "        \n",
    "        if output == \"4A0B\":\n",
    "            print(\"correct!\")\n",
    "        else:\n",
    "            print(output)\n",
    "            guess()"
   ]
  },
  {
   "cell_type": "code",
   "execution_count": null,
   "metadata": {},
   "outputs": [],
   "source": []
  }
 ],
 "metadata": {
  "kernelspec": {
   "display_name": "Python 3",
   "language": "python",
   "name": "python3"
  },
  "language_info": {
   "codemirror_mode": {
    "name": "ipython",
    "version": 3
   },
   "file_extension": ".py",
   "mimetype": "text/x-python",
   "name": "python",
   "nbconvert_exporter": "python",
   "pygments_lexer": "ipython3",
   "version": "3.7.6"
  }
 },
 "nbformat": 4,
 "nbformat_minor": 2
}

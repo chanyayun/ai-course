{
 "cells": [
  {
   "cell_type": "markdown",
   "metadata": {},
   "source": [
    "### Guess the Number"
   ]
  },
  {
   "cell_type": "code",
   "execution_count": 1,
   "metadata": {},
   "outputs": [],
   "source": [
    "from random import sample"
   ]
  },
  {
   "cell_type": "code",
   "execution_count": 2,
   "metadata": {},
   "outputs": [],
   "source": [
    "def start_game():\n",
    "    given = map(str, sample(range(10), 4))\n",
    "    given = \"\".join(given)\n",
    "#     print(given)\n",
    "         \n",
    "    while True:\n",
    "        if guess(given):\n",
    "            break\n",
    "        else:\n",
    "            continue\n",
    "    \n",
    "    restart = input(\"Another round? (y/n): \")\n",
    "    if restart == 'y':\n",
    "        print(\"\\n==============================\")\n",
    "        start_game()"
   ]
  },
  {
   "cell_type": "code",
   "execution_count": 3,
   "metadata": {},
   "outputs": [],
   "source": [
    "def guess(given):\n",
    "    a_count, b_count = 0, 0\n",
    "#     0987, 666, 6666\n",
    "    try:\n",
    "        ans = input(\"Take a guess (0~9): \")\n",
    "        if len(ans) != 4 or len(set(ans)) != 4:\n",
    "            raise ValueError\n",
    "        ans = int(ans)\n",
    "        ans = str(ans)\n",
    "        if len(ans) < 4:\n",
    "            ans = '0'*(4-len(ans)) + ans\n",
    "\n",
    "        for i in range(len(given)):\n",
    "            if ans[i] == given[i]:\n",
    "                a_count += 1\n",
    "            elif ans[i] in given:\n",
    "                b_count += 1\n",
    "                \n",
    "        output = f'{a_count}A{b_count}B'\n",
    "        \n",
    "        if output == \"4A0B\":\n",
    "            print(\"Correct!\")\n",
    "            return 1\n",
    "                                \n",
    "        else:\n",
    "            print(output + \"\\n\")\n",
    "            return 0\n",
    "    except ValueError:\n",
    "        print(\"Input should be 4 unique integers!\\n\")\n",
    "        return 0"
   ]
  },
  {
   "cell_type": "code",
   "execution_count": 4,
   "metadata": {},
   "outputs": [
    {
     "name": "stdout",
     "output_type": "stream",
     "text": [
      "Take a guess (0~9): 1234\n",
      "2A0B\n",
      "\n",
      "Take a guess (0~9): 1256\n",
      "1A1B\n",
      "\n",
      "Take a guess (0~9): 1537\n",
      "Correct!\n",
      "Another round? (y/n): y\n",
      "\n",
      "==============================\n",
      "Take a guess (0~9): aaaa\n",
      "Input should be 4 unique integers!\n",
      "\n",
      "Take a guess (0~9): aaaa\n",
      "Input should be 4 unique integers!\n",
      "\n",
      "Take a guess (0~9): asdfgh\n",
      "Input should be 4 unique integers!\n",
      "\n",
      "Take a guess (0~9): 00098\n",
      "Input should be 4 unique integers!\n",
      "\n",
      "Take a guess (0~9): 09876\n",
      "Input should be 4 unique integers!\n",
      "\n",
      "Take a guess (0~9): 9888\n",
      "Input should be 4 unique integers!\n",
      "\n",
      "Take a guess (0~9): 0987\n",
      "0A2B\n",
      "\n",
      "Take a guess (0~9): 7865\n",
      "0A2B\n",
      "\n",
      "Take a guess (0~9): 7843\n",
      "0A3B\n",
      "\n",
      "Take a guess (0~9): 8732\n",
      "1A2B\n",
      "\n",
      "Take a guess (0~9): 8371\n",
      "2A0B\n",
      "\n",
      "Take a guess (0~9): 8302\n",
      "1A1B\n",
      "\n",
      "Take a guess (0~9): 3489\n",
      "0A2B\n",
      "\n",
      "Take a guess (0~9): 1206\n",
      "1A0B\n",
      "\n",
      "Take a guess (0~9): 5890\n",
      "0A1B\n",
      "\n",
      "Take a guess (0~9): 2187\n",
      "0A3B\n",
      "\n",
      "Take a guess (0~9): 8274\n",
      "Correct!\n",
      "Another round? (y/n): d\n"
     ]
    }
   ],
   "source": [
    "start_game()"
   ]
  },
  {
   "cell_type": "code",
   "execution_count": null,
   "metadata": {},
   "outputs": [],
   "source": []
  }
 ],
 "metadata": {
  "kernelspec": {
   "display_name": "Python 3",
   "language": "python",
   "name": "python3"
  },
  "language_info": {
   "codemirror_mode": {
    "name": "ipython",
    "version": 3
   },
   "file_extension": ".py",
   "mimetype": "text/x-python",
   "name": "python",
   "nbconvert_exporter": "python",
   "pygments_lexer": "ipython3",
   "version": "3.7.6"
  }
 },
 "nbformat": 4,
 "nbformat_minor": 2
}
